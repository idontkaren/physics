{
 "cells": [
  {
   "cell_type": "markdown",
   "id": "afd0e3e4-d8c0-4f3a-9360-b1fc07b3afff",
   "metadata": {},
   "source": [
    "Cálculo de concentração de nanopartículas através de dados de TEM"
   ]
  },
  {
   "cell_type": "code",
   "execution_count": 9,
   "id": "c01a8024-350a-4571-bf4e-c84aade6c457",
   "metadata": {},
   "outputs": [],
   "source": [
    "import math\n",
    "import numpy as np\n",
    "import matplotlib.pyplot as plt"
   ]
  },
  {
   "cell_type": "code",
   "execution_count": 19,
   "id": "af719452-13de-4291-a92d-3d5450b8eb92",
   "metadata": {},
   "outputs": [
    {
     "name": "stdin",
     "output_type": "stream",
     "text": [
      "insira o tamanho médio das NPs 32.5751\n"
     ]
    },
    {
     "name": "stdout",
     "output_type": "stream",
     "text": [
      "O volume da NP é: 18099.054804715845\n"
     ]
    }
   ],
   "source": [
    "# Cálculo do volume das NP's\n",
    "tamanho = input(\"insira o tamanho médio das NPs\") \n",
    "raio = float(tamanho)/2\n",
    "volume_np = (4/3)*math.pi*(raio)**3\n",
    "print(f\"O volume da NP é: {volume_np}\")"
   ]
  },
  {
   "cell_type": "code",
   "execution_count": 21,
   "id": "51716f2d-b90c-4202-bd9f-4ebeac4a7af2",
   "metadata": {},
   "outputs": [
    {
     "name": "stdout",
     "output_type": "stream",
     "text": [
      "Quantidade de massa presente em cada NP: 349311.7577310158\n"
     ]
    }
   ],
   "source": [
    "# Quantidade massa presente em cada NP, em gramas:\n",
    "densidade_au = 19.3\n",
    "massa_np = (volume_np)*(densidade_au)\n",
    "print(f\"Quantidade de massa presente em cada NP: {massa_np}\")"
   ]
  },
  {
   "cell_type": "code",
   "execution_count": 23,
   "id": "e34a6dc1-5889-4f9d-8857-cb21cff89c3d",
   "metadata": {},
   "outputs": [
    {
     "name": "stdin",
     "output_type": "stream",
     "text": [
      "Insira volume da solução:  3E-3\n"
     ]
    },
    {
     "name": "stdout",
     "output_type": "stream",
     "text": [
      "Quantidade de NPs geradas: 1.6916149740800242e-09\n"
     ]
    }
   ],
   "source": [
    "# Estimativa da quantidade de NPss geradas:\n",
    "volume_solucao = input(\"Insira volume da solução: \")\n",
    "massa_au = float(volume_solucao)*0.196967\n",
    "qtd_np = (massa_au)/(massa_np)\n",
    "print(f\"Quantidade de NPs geradas: {qtd_np}\")"
   ]
  },
  {
   "cell_type": "code",
   "execution_count": 25,
   "id": "2fb3c0df-3f02-4bcd-a765-9686d748a5ab",
   "metadata": {},
   "outputs": [
    {
     "name": "stdin",
     "output_type": "stream",
     "text": [
      "Insira volume preparado:  3.3E-3\n"
     ]
    },
    {
     "name": "stdout",
     "output_type": "stream",
     "text": [
      "Concentração de NPs na solução: 5.12610598206068e-07\n"
     ]
    }
   ],
   "source": [
    "# Cálculo da concewntração de NPs (em 1/cm^3) no volume preparado (V_solução + volume água + citrato):\n",
    "volume_prep = input(\"Insira volume preparado: \")\n",
    "conc_np = qtd_np/(float(volume_prep))\n",
    "print(f\"Concentração de NPs na solução: {conc_np}\")"
   ]
  },
  {
   "cell_type": "code",
   "execution_count": null,
   "id": "fc8002ce-a684-4d35-9f5f-9989a42b8935",
   "metadata": {},
   "outputs": [],
   "source": []
  }
 ],
 "metadata": {
  "kernelspec": {
   "display_name": "Python 3 (ipykernel)",
   "language": "python",
   "name": "python3"
  },
  "language_info": {
   "codemirror_mode": {
    "name": "ipython",
    "version": 3
   },
   "file_extension": ".py",
   "mimetype": "text/x-python",
   "name": "python",
   "nbconvert_exporter": "python",
   "pygments_lexer": "ipython3",
   "version": "3.12.0"
  }
 },
 "nbformat": 4,
 "nbformat_minor": 5
}
